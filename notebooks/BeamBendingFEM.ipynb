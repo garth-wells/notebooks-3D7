{
 "metadata": {
  "name": "",
  "signature": "sha256:46c0c5e0ee4af24c64244c347d392b49a5e64549dab43e7a34e1678504d22bf8"
 },
 "nbformat": 3,
 "nbformat_minor": 0,
 "worksheets": [
  {
   "cells": [
    {
     "cell_type": "heading",
     "level": 1,
     "metadata": {},
     "source": [
      "Beam Bending Problem - Fourth-Order Problems"
     ]
    },
    {
     "cell_type": "markdown",
     "metadata": {},
     "source": [
      "We create in this notebook a simple finite element solver for a bending beam using continuous, piecewise linear finite elements.\n",
      "\n",
      "We will use NumPy to perform the simulations, and Matplotlib to visualise the results, so we first import the NumPy and Matplotlib modules:"
     ]
    },
    {
     "cell_type": "code",
     "collapsed": false,
     "input": [
      "import numpy as np\n",
      "%matplotlib inline\n",
      "import matplotlib.pyplot as plt"
     ],
     "language": "python",
     "metadata": {},
     "outputs": [],
     "prompt_number": 1
    },
    {
     "cell_type": "heading",
     "level": 2,
     "metadata": {},
     "source": [
      "A first solver"
     ]
    },
    {
     "cell_type": "heading",
     "level": 3,
     "metadata": {},
     "source": [
      "Elastic parameters"
     ]
    },
    {
     "cell_type": "markdown",
     "metadata": {},
     "source": [
      "For our bending beam, we define the Young's modulus $E$ and the second moment of intertia around the bending axis $I$. Both are assumed constant."
     ]
    },
    {
     "cell_type": "code",
     "collapsed": false,
     "input": [
      "E = 100.0\n",
      "I = 1.0"
     ],
     "language": "python",
     "metadata": {},
     "outputs": [],
     "prompt_number": 2
    },
    {
     "cell_type": "heading",
     "level": 3,
     "metadata": {},
     "source": [
      "Distributed load"
     ]
    },
    {
     "cell_type": "markdown",
     "metadata": {},
     "source": [
      "We now define the distributed load $f$. We will use a function that takes the coordinate $x$ as an argument so we possibly define loading terms that vary with position."
     ]
    },
    {
     "cell_type": "code",
     "collapsed": false,
     "input": [
      "def distributed_load(x):\n",
      "    return 1.0"
     ],
     "language": "python",
     "metadata": {},
     "outputs": [],
     "prompt_number": 3
    },
    {
     "cell_type": "markdown",
     "metadata": {},
     "source": [
      "On top of that, we also consider a beam subject to a shear force $Q$ and a bending moment $M$ applied at its ends."
     ]
    },
    {
     "cell_type": "code",
     "collapsed": false,
     "input": [
      "M = 1.0\n",
      "Q = 1.0"
     ],
     "language": "python",
     "metadata": {},
     "outputs": [],
     "prompt_number": 4
    },
    {
     "cell_type": "heading",
     "level": 3,
     "metadata": {},
     "source": [
      "Create a mesh"
     ]
    },
    {
     "cell_type": "markdown",
     "metadata": {},
     "source": [
      "We will create a mesh of length $L$ with a prescribed number of cells (elements) $n_{\\text{cells}}$. For linear elements, the number of nodes $n_{\\text{nodes}}$ is equal to $n_{\\text{cells}} + 1$."
     ]
    },
    {
     "cell_type": "code",
     "collapsed": false,
     "input": [
      "L = 10.0\n",
      "n_cells = 30\n",
      "n_nodes = n_cells + 1"
     ],
     "language": "python",
     "metadata": {},
     "outputs": [],
     "prompt_number": 5
    },
    {
     "cell_type": "markdown",
     "metadata": {},
     "source": [
      "To create a mesh from 0 to $L$ with equal size cells (elements) we will use the NumPy function `linspace` to generate an array of equally spaced points on the interval $[0, L]$."
     ]
    },
    {
     "cell_type": "code",
     "collapsed": false,
     "input": [
      "mesh = np.linspace(0.0, L, n_nodes)"
     ],
     "language": "python",
     "metadata": {},
     "outputs": [],
     "prompt_number": 6
    },
    {
     "cell_type": "markdown",
     "metadata": {},
     "source": [
      "Matplotlib can be used to visualise the mesh:"
     ]
    },
    {
     "cell_type": "code",
     "collapsed": false,
     "input": [
      "plt.xlabel('$x$')\n",
      "plt.title('finite element mesh')\n",
      "plt.plot(mesh, [0]*len(mesh), 'ro-');"
     ],
     "language": "python",
     "metadata": {},
     "outputs": [
      {
       "metadata": {},
       "output_type": "display_data",
       "png": "[encoded data removed]",
       "text": [
        "<matplotlib.figure.Figure at 0x7f1a38299a10>"
       ]
      }
     ],
     "prompt_number": 7
    },
    {
     "cell_type": "heading",
     "level": 3,
     "metadata": {},
     "source": [
      "A simple finite element solver"
     ]
    },
    {
     "cell_type": "markdown",
     "metadata": {},
     "source": [
      "We have already defined our domain (the mesh) and the constitutive parameters ($E$ and $I$). We now need to build the global stiffness matrix $\\boldsymbol{K}$ and the global right-hand side vector $\\boldsymbol{b}$, after which we can solve $\\boldsymbol{K} \\boldsymbol{a} = \\boldsymbol{b}$ to get the nodal degrees-of-freedom $\\boldsymbol{a}$. "
     ]
    },
    {
     "cell_type": "heading",
     "level": 4,
     "metadata": {},
     "source": [
      "Create stiffness matrix $\\boldsymbol{K}$"
     ]
    },
    {
     "cell_type": "markdown",
     "metadata": {},
     "source": [
      "We create the global stiffness matrix by computing the element matrix $\\boldsymbol{k}_{e}$ (which is constant since $A$, $I$ and the cell size are constant in our case), and then looping over all cells and adding their contribution to the global matrix."
     ]
    },
    {
     "cell_type": "heading",
     "level": 5,
     "metadata": {},
     "source": [
      "Element stiffness matrix $\\boldsymbol{k}_{e}$"
     ]
    },
    {
     "cell_type": "markdown",
     "metadata": {},
     "source": [
      "\n",
      "\n",
      "The element stiffness matrix for a linear element of length $l$ and constant $EI$ is\n",
      "\n",
      "$$\n",
      "\\boldsymbol{k}_{e} \n",
      "= \\frac{EI}{l^{3}}\n",
      "\\begin{bmatrix}\n",
      "12 & 6l & -12 & 6l \\\\\n",
      "6l & 4l^{2} & -6l & 2l^{2} \\\\\n",
      "-12 & -6l & 12 & -6l \\\\\n",
      "6l & 2l^{2} & -6l & 4l^{2} \n",
      "\\end{bmatrix}\n",
      "$$\n",
      "\n",
      "Our mesh has constant cells size, so we can compute $\\boldsymbol{k}_{e}$ just once:"
     ]
    },
    {
     "cell_type": "code",
     "collapsed": false,
     "input": [
      "l = L/n_cells\n",
      "k_e = (E*I/(l**3))*np.array([[12, 6*l, -12, 6*l], \n",
      "                [6*l, 4*l*l, -6*l, 2*l*l],\n",
      "                [-12, -6*l, 12, -6*l],\n",
      "                [6*l, 2*l*l, -6*l, 4*l*l]])\n",
      "print(k_e)"
     ],
     "language": "python",
     "metadata": {},
     "outputs": [
      {
       "output_type": "stream",
       "stream": "stdout",
       "text": [
        "[[ 32400.   5400. -32400.   5400.]\n",
        " [  5400.   1200.  -5400.    600.]\n",
        " [-32400.  -5400.  32400.  -5400.]\n",
        " [  5400.    600.  -5400.   1200.]]\n"
       ]
      }
     ],
     "prompt_number": 8
    },
    {
     "cell_type": "heading",
     "level": 5,
     "metadata": {},
     "source": [
      "Assemble global stiffness matrix"
     ]
    },
    {
     "cell_type": "markdown",
     "metadata": {},
     "source": [
      "To build the global stiffness matrix $\\boldsymbol{K}$, we first create an empty $n_{\\text{2*nodes}} \\times n_{\\text{2*nodes}}$ matrix: "
     ]
    },
    {
     "cell_type": "code",
     "collapsed": false,
     "input": [
      "K = np.zeros((2*n_nodes, 2*n_nodes))"
     ],
     "language": "python",
     "metadata": {},
     "outputs": [],
     "prompt_number": 9
    },
    {
     "cell_type": "markdown",
     "metadata": {},
     "source": [
      "Next, we loop over each cell and add the cell contribution $\\boldsymbol{k}_{e}$ to the the global matrix $\\boldsymbol{K}$. This is known as *assembly*. "
     ]
    },
    {
     "cell_type": "code",
     "collapsed": false,
     "input": [
      "for element in range(n_cells):\n",
      "    K[2*element:2*element + 4, 2*element:2*element + 4] += k_e"
     ],
     "language": "python",
     "metadata": {},
     "outputs": [],
     "prompt_number": 10
    },
    {
     "cell_type": "heading",
     "level": 4,
     "metadata": {},
     "source": [
      "Create RHS vector $\\boldsymbol{b}$"
     ]
    },
    {
     "cell_type": "markdown",
     "metadata": {},
     "source": [
      "We create the global RHS vector $\\boldsymbol{b}$ by computing the cell RHS $\\boldsymbol{b}_{e}$ cell-by-cell, and adding this to the global RHS vector. We allow the distributed load $f$ to vary with position, which is why we cannot compute it just once. For simplicity we will integral the local RHS use the midpoint rule. This is exact of $f$ is constant, and is otherwise approximate.\n",
      "\n",
      "We first crate an empty global RHS vector: "
     ]
    },
    {
     "cell_type": "code",
     "collapsed": false,
     "input": [
      "b = np.zeros(2*n_nodes)"
     ],
     "language": "python",
     "metadata": {},
     "outputs": [],
     "prompt_number": 11
    },
    {
     "cell_type": "markdown",
     "metadata": {},
     "source": [
      "The right hand side vector for each element is\n",
      "\n",
      "$$\n",
      "\\boldsymbol{b}_{e} \n",
      "= \\begin{bmatrix}\n",
      "\\frac{l}{2} \\\\\n",
      "\\frac{l^{2}}{12} \\\\\n",
      "\\frac{l}{2} \\\\\n",
      "\\frac{-l^{2}}{12} \n",
      "\\end{bmatrix} \n",
      "$$\n",
      "\n",
      "for a distributed load. To add a constraint on the global RHS vector, simply add Q and M to the final nodes. "
     ]
    },
    {
     "cell_type": "code",
     "collapsed": false,
     "input": [
      "# Get midpoint\n",
      "x_mid = (mesh[element + 1] + mesh[element])/2.0\n",
      "    \n",
      "# Evaluate loading term\n",
      "f = distributed_load(x_mid)\n",
      "\n",
      "b_e = np.array([l*0.5, (-1)*(-1/12)*(l**2), l*0.5 , (-1/12)*(l**2)])\n",
      "print b_e"
     ],
     "language": "python",
     "metadata": {},
     "outputs": [
      {
       "output_type": "stream",
       "stream": "stdout",
       "text": [
        "[ 0.16666667  0.11111111  0.16666667 -0.11111111]\n"
       ]
      }
     ],
     "prompt_number": 12
    },
    {
     "cell_type": "markdown",
     "metadata": {},
     "source": [
      "Now assemble into the global RHS vector"
     ]
    },
    {
     "cell_type": "code",
     "collapsed": false,
     "input": [
      "for element in range(n_cells):\n",
      "    # Compute and add RHS contributions\n",
      "    b[2*element:2*element + 4] += b_e\n",
      "\n",
      "# Add constraints for M and Q\n",
      "b[-1] = b[-1] + M # Moment applied at the last node\n",
      "b[-2] = b[-2] + Q # Shear force applied at the last node"
     ],
     "language": "python",
     "metadata": {},
     "outputs": [],
     "prompt_number": 13
    },
    {
     "cell_type": "heading",
     "level": 4,
     "metadata": {},
     "source": [
      "Apply Dirichet (displacement) boundary condition"
     ]
    },
    {
     "cell_type": "markdown",
     "metadata": {},
     "source": [
      "We're almost to solve a finite element problem, but we would get into trouble if we tried to solve $\\boldsymbol{K} \\boldsymbol{a} = \\boldsymbol{b}$ using the above stiffness matrix because it is singular (you can verify this be computing the determinate with `np.linalg.det(K)`). The system is singular because we have not applied a Dirichlet boundary condition, hence there is a rigid body translation mode in th system.\n",
      "\n",
      "We impose the boundary condition $v = 0$ and $\\theta=0$ at $x=0$ by zeroing the first and second rows and columns of the matrix, placing ones on the first and second diagonal entry and setting the first two entries on the RHS to zero. It should be clear algebraically that this will ensure that the first degree of freedom is equation to zero when we solve the system."
     ]
    },
    {
     "cell_type": "code",
     "collapsed": false,
     "input": [
      "# Zero first and second row; first and second column\n",
      "K[0, :] = 0.0\n",
      "K[:, 0] = 0.0\n",
      "\n",
      "# Place one on the diagonoal of K and zero in the first entry on the RHS\n",
      "K[0, 0] = 1.0\n",
      "K[1, 1] = 0.0\n",
      "b[0] = 0.0\n",
      "b[1] = 0.0"
     ],
     "language": "python",
     "metadata": {},
     "outputs": [],
     "prompt_number": 14
    },
    {
     "cell_type": "heading",
     "level": 4,
     "metadata": {},
     "source": [
      "Solve system of equations"
     ]
    },
    {
     "cell_type": "markdown",
     "metadata": {},
     "source": [
      "We can now solve the finite element system $\\boldsymbol{K}$:"
     ]
    },
    {
     "cell_type": "code",
     "collapsed": false,
     "input": [
      "u = np.linalg.solve(K, b)"
     ],
     "language": "python",
     "metadata": {},
     "outputs": [],
     "prompt_number": 15
    },
    {
     "cell_type": "heading",
     "level": 4,
     "metadata": {},
     "source": [
      "Visualising the solution"
     ]
    },
    {
     "cell_type": "markdown",
     "metadata": {},
     "source": [
      "We now plot the solution:"
     ]
    },
    {
     "cell_type": "code",
     "collapsed": false,
     "input": [
      "plt.xlabel('$x$')\n",
      "plt.ylabel('$u$')\n",
      "plt.title('Finite element solution for the elastic bar')\n",
      "\n",
      "# Extract displacement and rotation\n",
      "v = u[0:len(u):2]\n",
      "theta = u[1:len(u):2]\n",
      "\n",
      "plt.plot(mesh, v, 'ro-');"
     ],
     "language": "python",
     "metadata": {},
     "outputs": [
      {
       "metadata": {},
       "output_type": "display_data",
       "png": "[encoded data removed]",
       "text": [
        "<matplotlib.figure.Figure at 0x7f1a1e651dd0>"
       ]
      }
     ],
     "prompt_number": 16
    },
    {
     "cell_type": "heading",
     "level": 2,
     "metadata": {},
     "source": [
      "A more programatic approach"
     ]
    },
    {
     "cell_type": "markdown",
     "metadata": {},
     "source": [
      "We now present a finite element solver that is very similar the one above, but we now provide a programming interface so we can reuse a function to explore different loading functions and different levels of refinement of the mesh."
     ]
    },
    {
     "cell_type": "code",
     "collapsed": false,
     "input": [
      "def solver(L, q, M, Q, n_cells):\n",
      "    \"A simple finite element solver for a 1D bar\"    \n",
      "\n",
      "    # Crarte mesh and compute cell size\n",
      "    n_nodes = n_cells + 1\n",
      "    mesh = np.linspace(0.0, L, n_nodes)\n",
      "    l = L/n_cells\n",
      "\n",
      "    # Compute locall stiffness matrix\n",
      "    k_e = (E*I/(l**3))*np.array([[12, 6*l, -12, 6*l], \n",
      "                [6*l, 4*l*l, -6*l, 2*l*l],\n",
      "                [-12, -6*l, 12, -6*l],\n",
      "                [6*l, 2*l*l, -6*l, 4*l*l]])\n",
      "    \n",
      "    # Assemble global stiffnes matrix\n",
      "    K = np.zeros((2*n_nodes, 2*n_nodes))\n",
      "    \n",
      "    # RHS element vector and initiate global RHS vector\n",
      "    b = np.zeros(2*n_nodes)\n",
      "    b_e = np.array([l*0.5, (-1)*(-1/12)*(l**2), l*0.5 , (-1/12)*(l**2)])\n",
      "    \n",
      "    # Two-point Gauss quadrature points on the interval (-1, 1)\n",
      "    x_quadrature = ((-1.0/np.sqrt(3.0), 1.0), (1.0/np.sqrt(3.0), 1.0))\n",
      "    \n",
      "    # Assemble RHS using two-point Gauss quadrature\n",
      "    for element in range(n_cells):\n",
      "        # Get midpoint\n",
      "        x_mid = (mesh[element + 1] + mesh[element])/2.0\n",
      "        f_load = q\n",
      "        \n",
      "        # Assemble RHS vector\n",
      "        b[2*element:2*element + 4] += f_load*b_e\n",
      "        \n",
      "        # Assemble stiffness vector\n",
      "        K[2*element:2*element + 4, 2*element:2*element + 4] += k_e\n",
      "        \n",
      "    # Apply boundary condition\n",
      "    # Zero first and second row; first and second column\n",
      "    K[0, :] = 0.0\n",
      "    K[:, 0] = 0.0\n",
      "\n",
      "    # Place one on the diagonoal of K and zero in the first entry on the RHS\n",
      "    K[0, 0] = 1.0\n",
      "    K[1, 1] = 0.0\n",
      "    b[0] = 0.0\n",
      "    b[1] = 0.0\n",
      "    \n",
      "    # Add constraints for M and Q\n",
      "    b[-1] = b[-1] + M # Moment applied at the last node\n",
      "    b[-2] = b[-2] + Q # Shear force applied at the last node\n",
      "    \n",
      "    return np.linalg.solve(K, b), mesh"
     ],
     "language": "python",
     "metadata": {},
     "outputs": [],
     "prompt_number": 21
    },
    {
     "cell_type": "markdown",
     "metadata": {},
     "source": [
      "We want to see how the solution changes with mesh refinement for some loading function. To set $f = \\sin(x)$, we create a function:"
     ]
    },
    {
     "cell_type": "markdown",
     "metadata": {},
     "source": [
      "We now compute solutions for four increasingly fine meshes and store the mesh and the computed displacement field. We pass the domain length (`L`), the function for computing the loading (`f_sine`) and the number cells in the mesh (`n`):"
     ]
    },
    {
     "cell_type": "code",
     "collapsed": false,
     "input": [
      "# Add constraint to Moment and Force at the node\n",
      "M = 0.0\n",
      "Q = 0.0\n",
      "\n",
      "# Change the value of the distributed force\n",
      "q = 10.0\n",
      "\n",
      "meshes = [3, 5, 10, 20, 30]\n",
      "result = [solver(L, q, M, Q, n) for n in meshes]"
     ],
     "language": "python",
     "metadata": {},
     "outputs": [],
     "prompt_number": 24
    },
    {
     "cell_type": "markdown",
     "metadata": {},
     "source": [
      "Plotting the solutions on the same graph:"
     ]
    },
    {
     "cell_type": "code",
     "collapsed": false,
     "input": [
      "plt.figure(figsize=(12,8))\n",
      "plt.grid()\n",
      "plt.xlabel('$x$')\n",
      "plt.ylabel('$v$')\n",
      "plt.title('Finite element solution for the bending beam')\n",
      "\n",
      "# Extract displacement and rotation\n",
      "\n",
      "for data, mesh in result:\n",
      "    v = data[0:len(data):2]\n",
      "    theta = data[1:len(data):2]\n",
      "    plt.plot(mesh, v, 'o-', label=str(len(mesh)-1) + ' cells');\n",
      "plt.legend(loc='upper left');"
     ],
     "language": "python",
     "metadata": {},
     "outputs": [
      {
       "metadata": {},
       "output_type": "display_data",
       "png": "[encoded data removed]",
       "text": [
        "<matplotlib.figure.Figure at 0x7f1a3a2d9b50>"
       ]
      }
     ],
     "prompt_number": 25
    },
    {
     "cell_type": "markdown",
     "metadata": {},
     "source": [
      "We can see that the solutions get closer as the mesh is refined.\n",
      "\n",
      "**Exercise** Experiment with your own loading function, and compare the computed results to an analytical solution."
     ]
    }
   ],
   "metadata": {}
  }
 ]
}